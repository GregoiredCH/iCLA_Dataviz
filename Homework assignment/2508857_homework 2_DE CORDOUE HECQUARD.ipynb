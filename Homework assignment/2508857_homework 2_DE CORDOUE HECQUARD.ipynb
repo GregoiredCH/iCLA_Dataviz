{
 "cells": [
  {
   "cell_type": "code",
   "execution_count": 1,
   "id": "4dab0f84-389f-4312-b7e9-c28045cf9bb3",
   "metadata": {},
   "outputs": [],
   "source": [
    "import numpy as np\n",
    "from itertools import permutations, combinations\n",
    "from math import perm, comb"
   ]
  },
  {
   "cell_type": "markdown",
   "id": "a850ebae",
   "metadata": {},
   "source": [
    "# A: Permutation and Combination"
   ]
  },
  {
   "cell_type": "markdown",
   "id": "6ea676a2",
   "metadata": {},
   "source": [
    "**Q1.** How many 4-digit numbers can be formed using the digits 1–9 if no digit is repeated?"
   ]
  },
  {
   "cell_type": "code",
   "execution_count": 2,
   "id": "9558eb5a-1690-40cc-899f-9c4ff8acee07",
   "metadata": {},
   "outputs": [
    {
     "data": {
      "text/plain": [
       "3024"
      ]
     },
     "execution_count": 2,
     "metadata": {},
     "output_type": "execute_result"
    }
   ],
   "source": [
    "# do not run this cell\n"
   ]
  },
  {
   "cell_type": "code",
   "execution_count": 9,
   "id": "f97482e5",
   "metadata": {},
   "outputs": [
    {
     "data": {
      "text/plain": [
       "3024"
      ]
     },
     "execution_count": 9,
     "metadata": {},
     "output_type": "execute_result"
    }
   ],
   "source": [
    "# Write your solution here\n",
    "digits = [str(i) for i in range(1, 10)]\n",
    "number = len(list(permutations(digits, 4)))\n",
    "number"
   ]
  },
  {
   "cell_type": "code",
   "execution_count": 11,
   "id": "f77bd3b6-fe98-4745-b4dc-afc3bd861157",
   "metadata": {},
   "outputs": [
    {
     "data": {
      "text/plain": [
       "3024"
      ]
     },
     "execution_count": 11,
     "metadata": {},
     "output_type": "execute_result"
    }
   ],
   "source": [
    "# Alternatively:\n",
    "nb = 9*8*7*6\n",
    "nb"
   ]
  },
  {
   "cell_type": "markdown",
   "id": "f82d1c0f",
   "metadata": {},
   "source": [
    "**Q2.** In how many ways can 5 students be seated in a row of 8 chairs?"
   ]
  },
  {
   "cell_type": "code",
   "execution_count": 4,
   "id": "647c1b0a-4488-47da-8550-6a09c5da54cf",
   "metadata": {},
   "outputs": [
    {
     "data": {
      "text/plain": [
       "6720"
      ]
     },
     "execution_count": 4,
     "metadata": {},
     "output_type": "execute_result"
    }
   ],
   "source": [
    "# do not run this cell\n"
   ]
  },
  {
   "cell_type": "code",
   "execution_count": 13,
   "id": "c287c6eb",
   "metadata": {},
   "outputs": [
    {
     "data": {
      "text/plain": [
       "6720"
      ]
     },
     "execution_count": 13,
     "metadata": {},
     "output_type": "execute_result"
    }
   ],
   "source": [
    "# Write your solution here\n",
    "seats = [str(i) for i in range(1, 9)]\n",
    "nways = len(list(permutations(seats, 5)))\n",
    "nways"
   ]
  },
  {
   "cell_type": "code",
   "execution_count": null,
   "id": "acd12b76-3c5b-49e9-bf3b-af8520bf2b95",
   "metadata": {},
   "outputs": [],
   "source": []
  },
  {
   "cell_type": "markdown",
   "id": "5f043394",
   "metadata": {},
   "source": [
    "**Q3.** From 8 books, including 3 novels, in how many ways can you choose 4 books containing at least 1 novel?"
   ]
  },
  {
   "cell_type": "code",
   "execution_count": 6,
   "id": "c4d97dca-49d9-4882-ad07-0921e86cf56f",
   "metadata": {},
   "outputs": [
    {
     "data": {
      "text/plain": [
       "210"
      ]
     },
     "execution_count": 6,
     "metadata": {},
     "output_type": "execute_result"
    }
   ],
   "source": [
    "# do not run this cell\n"
   ]
  },
  {
   "cell_type": "code",
   "execution_count": 24,
   "id": "5708320a",
   "metadata": {},
   "outputs": [
    {
     "data": {
      "text/plain": [
       "65"
      ]
     },
     "execution_count": 24,
     "metadata": {},
     "output_type": "execute_result"
    }
   ],
   "source": [
    "# Write your solution here\n",
    "comb(8, 4) - comb(3, 0)*comb(5, 4)"
   ]
  },
  {
   "cell_type": "code",
   "execution_count": null,
   "id": "3e4e543c-7fe4-472e-a934-29a0e2e436f9",
   "metadata": {},
   "outputs": [],
   "source": []
  },
  {
   "cell_type": "markdown",
   "id": "0ff39748",
   "metadata": {},
   "source": [
    "# B: Probability"
   ]
  },
  {
   "cell_type": "markdown",
   "id": "cc0290ba",
   "metadata": {},
   "source": [
    "**Q4.** Two dice are rolled. Find the probability that at least one die shows 4."
   ]
  },
  {
   "cell_type": "code",
   "execution_count": 8,
   "id": "8d1792ad-ae88-4bc2-8b5d-817b793d6264",
   "metadata": {},
   "outputs": [
    {
     "name": "stdout",
     "output_type": "stream",
     "text": [
      "Exact result: 0.3055555555555556\n",
      "\n",
      "Using simulation (N = 1000000)\n"
     ]
    },
    {
     "data": {
      "text/plain": [
       "0.305366"
      ]
     },
     "execution_count": 8,
     "metadata": {},
     "output_type": "execute_result"
    }
   ],
   "source": [
    "# do not run this cell\n"
   ]
  },
  {
   "cell_type": "code",
   "execution_count": 11,
   "id": "46eb5600",
   "metadata": {},
   "outputs": [
    {
     "name": "stdout",
     "output_type": "stream",
     "text": [
      "Exact result: 0.3055555555555556\n",
      "\n",
      "Using simulation (N = 1000000)\n",
      "0.305604\n"
     ]
    }
   ],
   "source": [
    "# Write your solution here\n",
    "\n",
    "# Exact result\n",
    "# There are 36 outcomes when throwing 2 dices and 11 where at least one die is a 4\n",
    "# (12 - 1 since we counted the possibility that both dices are a 4 twice)\n",
    "\n",
    "exact_res = 11/36 \n",
    "\n",
    "# Simulation\n",
    "\n",
    "sample_space = list(range(1, 7))\n",
    "N = 1000000\n",
    "count = 0\n",
    "\n",
    "for _ in range(N):\n",
    "    die1 = np.random.choice(a=sample_space)\n",
    "    die2 = np.random.choice(a=sample_space)\n",
    "    if die1 == 4 or die2 == 4:\n",
    "        count += 1\n",
    "\n",
    "sim = count/N\n",
    "print(f\"Exact result: {exact_res}\\n\")\n",
    "print(f\"Using simulation (N = 1000000)\")\n",
    "print(sim)"
   ]
  },
  {
   "cell_type": "code",
   "execution_count": null,
   "id": "34b8d668-b190-4f5b-bdf0-bdbf0e785290",
   "metadata": {},
   "outputs": [],
   "source": []
  },
  {
   "cell_type": "markdown",
   "id": "48344df2",
   "metadata": {},
   "source": [
    "**Q5.** A box contains 5 red, 4 blue, and 3 green balls. Two balls are drawn at random without replacement. Find the probability that both are of the same color."
   ]
  },
  {
   "cell_type": "code",
   "execution_count": 10,
   "id": "7fe5f9f6-dea3-4925-9164-cf95ba41967a",
   "metadata": {},
   "outputs": [
    {
     "name": "stdout",
     "output_type": "stream",
     "text": [
      "Exact result: 0.3055555555555555\n",
      "\n",
      "Using simulation (N = 1000000)\n"
     ]
    },
    {
     "data": {
      "text/plain": [
       "0.305985"
      ]
     },
     "execution_count": 10,
     "metadata": {},
     "output_type": "execute_result"
    }
   ],
   "source": [
    "# do not run this cell\n"
   ]
  },
  {
   "cell_type": "code",
   "execution_count": 13,
   "id": "36dc0568",
   "metadata": {},
   "outputs": [
    {
     "name": "stdout",
     "output_type": "stream",
     "text": [
      "Exact result: 0.2878787878787879\n",
      "\n",
      "Using simulation (N = 1000000)\n",
      "0.287735\n"
     ]
    }
   ],
   "source": [
    "# Write your solution here\n",
    "\n",
    "# Exact result\n",
    "\n",
    "n = comb(5, 2) + comb(4, 2) + comb(3, 2)\n",
    "d = comb(12, 2)\n",
    "exact_res = n/d\n",
    "\n",
    "# Simulation\n",
    "\n",
    "sample_space = \"R R R R R B B B B G G G\".split()\n",
    "N = 1000000\n",
    "count = 0\n",
    "\n",
    "for _ in range(N):\n",
    "    out = list(np.random.choice(a=sample_space, size=2, replace=False))\n",
    "    if out[0] == out[1]:\n",
    "        count += 1\n",
    "        \n",
    "sim = count/N\n",
    "print(f\"Exact result: {exact_res}\\n\")\n",
    "print(f\"Using simulation (N = 1000000)\")\n",
    "print(sim)"
   ]
  },
  {
   "cell_type": "code",
   "execution_count": null,
   "id": "53913d55-ea1b-4ca7-b6f6-1910e361d2a5",
   "metadata": {},
   "outputs": [],
   "source": []
  },
  {
   "cell_type": "markdown",
   "id": "bd547293",
   "metadata": {},
   "source": [
    "**Q6.** A fair coin is tossed three times. Find the probability that at least one head appears."
   ]
  },
  {
   "cell_type": "code",
   "execution_count": 12,
   "id": "2fe8ca83",
   "metadata": {},
   "outputs": [
    {
     "name": "stdout",
     "output_type": "stream",
     "text": [
      "Exact result: 0.875\n",
      "\n",
      "Using simulation (N = 100000)\n"
     ]
    },
    {
     "data": {
      "text/plain": [
       "0.87312"
      ]
     },
     "execution_count": 12,
     "metadata": {},
     "output_type": "execute_result"
    }
   ],
   "source": [
    "# do not run this cell\n"
   ]
  },
  {
   "cell_type": "code",
   "execution_count": 15,
   "id": "e9a2862a-8e77-4001-ad6d-b637976074f4",
   "metadata": {},
   "outputs": [
    {
     "name": "stdout",
     "output_type": "stream",
     "text": [
      "Exact result: 0.875\n",
      "\n",
      "Using simulation (N = 1000000)\n",
      "0.875192\n"
     ]
    }
   ],
   "source": [
    "# Write your solution here\n",
    "\n",
    "# Exact result\n",
    "# There is only one possibility that we don't get at least one head\n",
    "\n",
    "exact_res = 1 - 1/8\n",
    "\n",
    "# Simulation\n",
    "\n",
    "sample_space = \"H T\".split()\n",
    "N = 1000000\n",
    "count = 0\n",
    "\n",
    "for _ in range(N):\n",
    "    out = list(np.random.choice(a=sample_space, size=3))\n",
    "    if out.count(\"H\") >= 1:\n",
    "        count += 1\n",
    "\n",
    "sim = count/N\n",
    "\n",
    "print(f\"Exact result: {exact_res}\\n\")\n",
    "print(f\"Using simulation (N = 1000000)\")\n",
    "print(sim)"
   ]
  },
  {
   "cell_type": "code",
   "execution_count": null,
   "id": "809ed454-a9f9-423e-9181-5a95efe34d0b",
   "metadata": {},
   "outputs": [],
   "source": []
  },
  {
   "cell_type": "markdown",
   "id": "7dd02573",
   "metadata": {},
   "source": [
    "**Q7.** In a bag there are 6 white and 4 black balls. Two balls are drawn with replacement. Find the probability that one is white and one is black."
   ]
  },
  {
   "cell_type": "code",
   "execution_count": 14,
   "id": "f1748fab-935b-49fd-aa51-ab401f9309b9",
   "metadata": {},
   "outputs": [
    {
     "name": "stdout",
     "output_type": "stream",
     "text": [
      "Exact result: 0.48\n",
      "\n",
      "Using simulation (N = 1000000)\n"
     ]
    },
    {
     "data": {
      "text/plain": [
       "0.479409"
      ]
     },
     "execution_count": 14,
     "metadata": {},
     "output_type": "execute_result"
    }
   ],
   "source": [
    "# do not run this cell\n"
   ]
  },
  {
   "cell_type": "code",
   "execution_count": 17,
   "id": "58366b95",
   "metadata": {},
   "outputs": [
    {
     "name": "stdout",
     "output_type": "stream",
     "text": [
      "Exact result: 0.48\n",
      "\n",
      "Using simulation (N = 1000000)\n",
      "0.480402\n"
     ]
    }
   ],
   "source": [
    "# Write your solution here\n",
    "\n",
    "# Exact result\n",
    "# The draws are independant (with replacement), therefore we add the probabilities of drawing white then black and black then white\n",
    "\n",
    "exact_res = 0.6 * 0.4 + 0.4 * 0.6\n",
    "\n",
    "# Simulation\n",
    "\n",
    "sample_space = \"W W W W W W B B B B\".split()\n",
    "N = 1000000\n",
    "count = 0\n",
    "\n",
    "for _ in range(N):\n",
    "    out = list(np.random.choice(a=sample_space, size=2))\n",
    "    if out[0] != out[1]:\n",
    "        count += 1\n",
    "\n",
    "sim = count/N\n",
    "\n",
    "print(f\"Exact result: {exact_res}\\n\")\n",
    "print(f\"Using simulation (N = 1000000)\")\n",
    "print(sim)"
   ]
  },
  {
   "cell_type": "code",
   "execution_count": null,
   "id": "7a0a1747-83e6-46a3-b9dd-87292384ea0b",
   "metadata": {},
   "outputs": [],
   "source": []
  },
  {
   "cell_type": "markdown",
   "id": "492e7cb9",
   "metadata": {},
   "source": [
    "# C: Conditional Probability"
   ]
  },
  {
   "cell_type": "markdown",
   "id": "eb6f2443",
   "metadata": {},
   "source": [
    "**Q8.** In a class of 40 students, 25 passed math, 18 passed science, and 10 passed both. Find the probability that a student passed science given that they passed math."
   ]
  },
  {
   "cell_type": "code",
   "execution_count": 16,
   "id": "11960a59-7aae-451b-9bc0-ecf360fcff69",
   "metadata": {},
   "outputs": [
    {
     "name": "stdout",
     "output_type": "stream",
     "text": [
      "Exact result: 0.4\n",
      "\n",
      "Using simulation (N = 100000)\n"
     ]
    },
    {
     "data": {
      "text/plain": [
       "0.4034275866470926"
      ]
     },
     "execution_count": 16,
     "metadata": {},
     "output_type": "execute_result"
    }
   ],
   "source": [
    "# do not run this cell\n"
   ]
  },
  {
   "cell_type": "code",
   "execution_count": 3,
   "id": "a2d2152c",
   "metadata": {},
   "outputs": [
    {
     "name": "stdout",
     "output_type": "stream",
     "text": [
      "Exact result: 0.4\n",
      "\n",
      "Using simulation (N = 100000)\n",
      "0.40163646803623837\n"
     ]
    }
   ],
   "source": [
    "# Write your solution here\n",
    "\n",
    "# Exact result\n",
    "# Let M be the event \"the student passed math\" and S the event \"the student passed science\"\n",
    "\n",
    "prob_MnS = 10/40\n",
    "prob_M = 25/40\n",
    "prob_S_given_M_exact = prob_MnS/prob_M\n",
    "\n",
    "# Simulation\n",
    "sample_space = [True, False]\n",
    "N = 100000\n",
    "count_M = 0\n",
    "count_MnS = 0\n",
    "\n",
    "for _ in range(N):\n",
    "    if np.random.choice(a=sample_space, p=[10/40, 1-(10/40)]):\n",
    "        count_MnS += 1\n",
    "    if np.random.choice(a=sample_space, p=[25/40, 1-(25/40)]):\n",
    "        count_M += 1\n",
    "\n",
    "prob_S_given_M_sim = count_MnS/count_M\n",
    "\n",
    "print(f\"Exact result: {prob_S_given_M_exact}\\n\")\n",
    "print(f\"Using simulation (N = 100000)\")\n",
    "print(prob_S_given_M_sim)"
   ]
  },
  {
   "cell_type": "code",
   "execution_count": null,
   "id": "2de182e6-0e15-4591-9a47-7e36ba87069f",
   "metadata": {},
   "outputs": [],
   "source": []
  },
  {
   "cell_type": "markdown",
   "id": "eca80dfe-0f52-4c8f-a6fc-7520cefd106a",
   "metadata": {},
   "source": [
    "**Q9.** A box contains 3 defective and 7 good bulbs. Two bulbs are drawn without replacement. Find the probability that the second bulb is defective, given that the first bulb was good."
   ]
  },
  {
   "cell_type": "code",
   "execution_count": 18,
   "id": "cb8a77ab-94a1-4e39-ad29-2d353c04c284",
   "metadata": {},
   "outputs": [
    {
     "name": "stdout",
     "output_type": "stream",
     "text": [
      "Exact result: 0.3333333333333333\n",
      "\n",
      "Using simulation (N = 100000)\n"
     ]
    },
    {
     "data": {
      "text/plain": [
       "0.3317008205524767"
      ]
     },
     "execution_count": 18,
     "metadata": {},
     "output_type": "execute_result"
    }
   ],
   "source": [
    "# do not run this cell\n"
   ]
  },
  {
   "cell_type": "code",
   "execution_count": 5,
   "id": "b7ed60da",
   "metadata": {},
   "outputs": [
    {
     "name": "stdout",
     "output_type": "stream",
     "text": [
      "Exact result: 0.3333333333333333\n",
      "\n",
      "Using simulation (N = 100000)\n",
      "0.3318640247642687\n"
     ]
    }
   ],
   "source": [
    "# Write your solution here\n",
    "\n",
    "# Exact result\n",
    "# Let D be the event \"the 2nd bulb is defective\" and G the event \"the 1st bulb is good\"\n",
    "# Let's note that G and D are independant events\n",
    "\n",
    "prob_G = 7/10\n",
    "prob_GnD = (7/10) * (3/9)\n",
    "prob_D_given_G_exact = prob_GnD/prob_G\n",
    "\n",
    "# Simulation\n",
    "sample_space = [True, False]\n",
    "N = 100000\n",
    "\n",
    "count_GnD = 0\n",
    "count_G = 0\n",
    "\n",
    "for _ in range(N):\n",
    "    if np.random.choice(a=sample_space, p=[prob_GnD, 1 - prob_GnD]):\n",
    "        count_GnD += 1\n",
    "    if np.random.choice(a=sample_space, p=[prob_G, 1 - prob_G]):\n",
    "        count_G += 1\n",
    "\n",
    "prob_D_given_G_sim = count_GnD/count_G\n",
    "\n",
    "print(f\"Exact result: {prob_D_given_G_exact}\\n\")\n",
    "print(f\"Using simulation (N = 100000)\")\n",
    "print(prob_D_given_G_sim)"
   ]
  },
  {
   "cell_type": "code",
   "execution_count": null,
   "id": "7de06fea-1e9a-4f68-b07b-ab5231050608",
   "metadata": {},
   "outputs": [],
   "source": []
  },
  {
   "cell_type": "markdown",
   "id": "d5299bc8",
   "metadata": {},
   "source": [
    "**Q10.** A website’s login attempts: \n",
    "10\n",
    "% are from new users; \n",
    "90\n",
    "% from returning users. New users succeed with prob \n",
    "0.7; returning users succeed with prob \n",
    "0.9. Given a random login is successful, what is \n",
    "𝑃\n",
    "(\n",
    "it was a new user\n",
    ")?"
   ]
  },
  {
   "cell_type": "code",
   "execution_count": 20,
   "id": "2bf593f3-a068-4811-95d5-4fbc4a4a9ec5",
   "metadata": {},
   "outputs": [
    {
     "name": "stdout",
     "output_type": "stream",
     "text": [
      "Exact result: 0.07954545454545453\n",
      "\n",
      "Using simulation (N = 1000000)\n"
     ]
    },
    {
     "data": {
      "text/plain": [
       "0.07907687761411165"
      ]
     },
     "execution_count": 20,
     "metadata": {},
     "output_type": "execute_result"
    }
   ],
   "source": [
    "# do not run this cell\n"
   ]
  },
  {
   "cell_type": "code",
   "execution_count": 9,
   "id": "98210cb1",
   "metadata": {},
   "outputs": [
    {
     "name": "stdout",
     "output_type": "stream",
     "text": [
      "Exact result: 0.07954545454545453\n",
      "\n",
      "Using simulation (N = 100000)\n",
      "0.07948949945667247\n"
     ]
    }
   ],
   "source": [
    "# Write your solution here\n",
    "\n",
    "# Exact result\n",
    "# Let N be the event \"the attempt is from a new user\", R the event \"the attempt is from a returning user\" and S the event \"the login is successful\"\n",
    "\n",
    "prob_N = 0.1\n",
    "prob_R = 0.9\n",
    "prob_S_given_N = 0.7\n",
    "prob_S_given_R = 0.9\n",
    "\n",
    "prob_S = prob_N * prob_S_given_N + prob_R * prob_S_given_R # formula of total probabilities\n",
    "prob_SnN = prob_N * prob_S_given_N\n",
    "\n",
    "prob_N_given_S_exact = prob_SnN/prob_S\n",
    "\n",
    "# Simulation\n",
    "\n",
    "sample_space = [True, False]\n",
    "N = 1000000\n",
    "\n",
    "count_S = 0\n",
    "count_SnN = 0\n",
    "\n",
    "for _ in range(N):\n",
    "    if np.random.choice(a=sample_space, p=[prob_S, 1-prob_S]):\n",
    "        count_S += 1\n",
    "    if np.random.choice(a=sample_space, p=[prob_SnN, 1-prob_SnN]):\n",
    "        count_SnN += 1\n",
    "\n",
    "prob_N_given_S_sim = count_SnN/count_S\n",
    "\n",
    "print(f\"Exact result: {prob_N_given_S_exact}\\n\")\n",
    "print(f\"Using simulation (N = 100000)\")\n",
    "print(prob_N_given_S_sim)"
   ]
  }
 ],
 "metadata": {
  "kernelspec": {
   "display_name": "Python [conda env:base] *",
   "language": "python",
   "name": "conda-base-py"
  },
  "language_info": {
   "codemirror_mode": {
    "name": "ipython",
    "version": 3
   },
   "file_extension": ".py",
   "mimetype": "text/x-python",
   "name": "python",
   "nbconvert_exporter": "python",
   "pygments_lexer": "ipython3",
   "version": "3.12.7"
  }
 },
 "nbformat": 4,
 "nbformat_minor": 5
}
